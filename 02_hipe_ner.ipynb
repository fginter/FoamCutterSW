{
  "nbformat": 4,
  "nbformat_minor": 0,
  "metadata": {
    "colab": {
      "provenance": [],
      "authorship_tag": "ABX9TyM77jlh24Q/kzw0E89acyzu",
      "include_colab_link": true
    },
    "kernelspec": {
      "name": "python3",
      "display_name": "Python 3"
    },
    "language_info": {
      "name": "python"
    }
  },
  "cells": [
    {
      "cell_type": "markdown",
      "metadata": {
        "id": "view-in-github",
        "colab_type": "text"
      },
      "source": [
        "<a href=\"https://colab.research.google.com/github/fginter/FoamCutterSW/blob/master/02_hipe_ner.ipynb\" target=\"_parent\"><img src=\"https://colab.research.google.com/assets/colab-badge.svg\" alt=\"Open In Colab\"/></a>"
      ]
    },
    {
      "cell_type": "markdown",
      "source": [
        "# DSPy tutorial part 2\n",
        "\n",
        "* Grabs a dataset of historical documents from the HIPE-2022 shared task\n",
        "* Original data: https://github.com/hipe-eval/HIPE-2022-data/tree/main/data/v2.1/hipe2020/en\n",
        "\n"
      ],
      "metadata": {
        "id": "iay3NUGGT8IM"
      }
    },
    {
      "cell_type": "code",
      "source": [
        "!pip install -q dspy\n",
        "!wget https://github.com/TurkuNLP/DIGHT25/raw/refs/heads/main/hipe_extracted.json"
      ],
      "metadata": {
        "colab": {
          "base_uri": "https://localhost:8080/"
        },
        "collapsed": true,
        "id": "r1HJ7-_2VIrY",
        "outputId": "22e7f540-6d92-494b-89ea-e047bfd95353"
      },
      "execution_count": 16,
      "outputs": [
        {
          "output_type": "stream",
          "name": "stdout",
          "text": [
            "--2025-08-27 21:59:37--  https://github.com/TurkuNLP/DIGHT25/raw/refs/heads/main/hipe_extracted.json\n",
            "Resolving github.com (github.com)... 140.82.112.4\n",
            "Connecting to github.com (github.com)|140.82.112.4|:443... connected.\n",
            "HTTP request sent, awaiting response... 302 Found\n",
            "Location: https://raw.githubusercontent.com/TurkuNLP/DIGHT25/refs/heads/main/hipe_extracted.json [following]\n",
            "--2025-08-27 21:59:37--  https://raw.githubusercontent.com/TurkuNLP/DIGHT25/refs/heads/main/hipe_extracted.json\n",
            "Resolving raw.githubusercontent.com (raw.githubusercontent.com)... 185.199.108.133, 185.199.109.133, 185.199.110.133, ...\n",
            "Connecting to raw.githubusercontent.com (raw.githubusercontent.com)|185.199.108.133|:443... connected.\n",
            "HTTP request sent, awaiting response... 200 OK\n",
            "Length: 43541 (43K) [text/plain]\n",
            "Saving to: ‘hipe_extracted.json.2’\n",
            "\n",
            "hipe_extracted.json 100%[===================>]  42.52K  --.-KB/s    in 0.01s   \n",
            "\n",
            "2025-08-27 21:59:37 (3.54 MB/s) - ‘hipe_extracted.json.2’ saved [43541/43541]\n",
            "\n"
          ]
        }
      ]
    },
    {
      "cell_type": "code",
      "source": [
        "from google.colab import userdata\n",
        "\n",
        "rows=json.load(open(\"hipe_extracted.json\"))\n",
        "random.shuffle(rows)"
      ],
      "metadata": {
        "id": "gXPQHftbOYT8"
      },
      "execution_count": 17,
      "outputs": []
    },
    {
      "cell_type": "code",
      "execution_count": 18,
      "metadata": {
        "id": "ps7bw_9GtJKP"
      },
      "outputs": [],
      "source": [
        "import dspy, json, random\n",
        "\n",
        "class SimpleEnglishNER(dspy.Signature):\n",
        "    \"\"\"Extract entities as a list:\n",
        "    [{\"text\":\"Barack Obama\",\"type\":\"PERSON\"}, {\"text\":\"Berlin\",\"type\":\"LOCATION\"}]\n",
        "    Allowed types: PERSON, ORGANIZATION,PRODUCT,TIME,LOCATION\n",
        "\n",
        "    \"\"\"\n",
        "    text = dspy.InputField(desc=\"a snippet of historical document\")\n",
        "    entities = dspy.OutputField(desc=\"a list\")\n",
        "\n",
        "# configure your model (edit to your backend/key)\n",
        "lm=dspy.LM(\"openai/gpt-4.1-mini\",api_key=userdata.get('openai-api-key'))\n",
        "dspy.configure(lm=lm)\n",
        "\n",
        "predict = dspy.Predict(signature=SimpleEnglishNER)\n",
        "\n",
        "\n"
      ]
    },
    {
      "cell_type": "code",
      "source": [],
      "metadata": {
        "id": "QHItUWu7iATM"
      },
      "execution_count": 18,
      "outputs": []
    },
    {
      "cell_type": "code",
      "source": [
        "for row in rows[:15]: #only take first 15 rows\n",
        "    text = row\n",
        "    out = predict(text=text)\n",
        "    pred = out.entities\n",
        "    print(\"TEXT:\", text)\n",
        "    print(\"PRED:\", pred)\n",
        "    print()"
      ],
      "metadata": {
        "id": "uZT4czB3PjfF",
        "outputId": "724fb08b-873d-4d28-b29d-735959386fec",
        "colab": {
          "base_uri": "https://localhost:8080/"
        }
      },
      "execution_count": 19,
      "outputs": [
        {
          "output_type": "stream",
          "name": "stdout",
          "text": [
            "TEXT: For the Gazstte of the Unites States , i Letter I . TO THOMAS JEFFERSON , Vise President of the Unit . ! States , Philad : July 3 , 1800 . AS you are a candidate for the Supreme - Magistracy ot the United States , a know ¬ ledge of your character and qualifications becomes a subject of great importance to every lover of his country . — Had you been content to have moved in the humble walks of private life and never interfered in politi ¬ cal concerns , I would not have troubled you cr the public with these setters , since your vices or your virtues could have had but little relation to our national happiness ; — You might then , Sir , have Aided down the current of Use in obscurity , and at least have had the consolation to know that your de ¬ formities were hidden from the world . But , as , Sir , you have appeared on the stage of public life in a variety of situations , and now offer yourself as a candidate for the Presi - drncy , you will please excuse the liberty I take to investig\n",
            "PRED: [{\"text\":\"Thomas Jefferson\",\"type\":\"PERSON\"},{\"text\":\"Vice President of the United States\",\"type\":\"TITLE\"},{\"text\":\"Philad\",\"type\":\"LOCATION\"},{\"text\":\"July 3, 1800\",\"type\":\"TIME\"},{\"text\":\"Supreme Magistracy of the United States\",\"type\":\"ORGANIZATION\"},{\"text\":\"President\",\"type\":\"TITLE\"}]\n",
            "\n",
            "TEXT: District of Pennsylvania to wit : B E it remembered that on tshe Tenth day of July in the twenty fif - . h year of the Indepen ¬ dence of the United States of America , Alexan ¬ der Addison of the said District hath deposited in this office the title of a book the right where ¬ of he claims as Author in tha words following to wit , “ Reports of cafes in the County courts of the Fifth Circuit and in the High Court of Errors and appeals of the State of Pennsylvania , and charges to Grand Juries of those County Courts . By Alexander Addison , President of the Courts of Common Pleas of me Fifth Cir ¬ cuit of the State of Pennlylvann . ” In conformity to the act of Congress of the Uni ¬ ted States istitlrd “ An act for the encouragement of learning by securimr the copies of maps charts and books to the Authors and Proprietors of such copies during the times therein mentioned . \" D.C * I.DWELL , Clerl of lie DiJtriEl of Peonsyl v aoisA The above book is now pohlsshcd . It will be de ¬ livere\n",
            "PRED: [{\"text\":\"District of Pennsylvania\",\"type\":\"LOCATION\"}, {\"text\":\"Tenth day of July\",\"type\":\"TIME\"}, {\"text\":\"twenty fifth year of the Independence of the United States of America\",\"type\":\"TIME\"}, {\"text\":\"Alexander Addison\",\"type\":\"PERSON\"}, {\"text\":\"United States of America\",\"type\":\"LOCATION\"}, {\"text\":\"Reports of cases in the County courts of the Fifth Circuit and in the High Court of Errors and appeals of the State of Pennsylvania\",\"type\":\"PRODUCT\"}, {\"text\":\"Alexander Addison\",\"type\":\"PERSON\"}, {\"text\":\"President of the Courts of Common Pleas of the Fifth Circuit of the State of Pennsylvania\",\"type\":\"PERSON\"}, {\"text\":\"act of Congress of the United States\",\"type\":\"ORGANIZATION\"}, {\"text\":\"D.C. Idwell\",\"type\":\"PERSON\"}, {\"text\":\"Clerk of the District of Pennsylvania\",\"type\":\"PERSON\"}]\n",
            "\n",
            "TEXT: Egg Producers Asked To Vole The Columbus County com ¬ mittee which will supervise the Hetiny Benny referendum on Apt il 2 is making final plans . “ We want to be sure that every egg producer in the county votes , whether for or against the peiiny - a - hcn as ¬ sessment , ” saiil Marvin Lewis , chairman of the committee . | “ That includes producers of hatching eggs , too . \" Money raised through the assessment will he used by a North Carolina Kgg Associa ¬ tion , which will he organized if the ' referendum passes . It ’ ; , estimated that about $30,000 | will be available to finance the association . One cent will be collected by poultry process ¬ ors on each hen processed in I the state . The Association will use the money to hire an executive and to pay for advertising and promotion of Tar Heel eggs . \" Tar Heel eggs brought a - bout S7T > million in income last year . ” said Chairman Lewis . “ Ye - North Carolina producers contributed only about $1.1 ) 00 towards the $300,000 given\n",
            "PRED: [{\"text\":\"Columbus County\",\"type\":\"LOCATION\"}, {\"text\":\"Marvin Lewis\",\"type\":\"PERSON\"}, {\"text\":\"North Carolina Egg Association\",\"type\":\"ORGANIZATION\"}, {\"text\":\"North Carolina\",\"type\":\"LOCATION\"}, {\"text\":\"Tar Heel eggs\",\"type\":\"PRODUCT\"}]\n",
            "\n",
            "TEXT: Interesting Correspondence , Betiveln Citizens of Elizabeth Cita ’ Co . , A ' a . , and 31n . Van Buren . Elisabeth City County , Ea . June 12 , 1840 . Dear Sir : The promiueut attitude which you now occupy in relation to the coining Residential contest , confers upon every voter o ! this widely extended Republic , how ¬ ever humble may be his condition , a right to inquire your views upon each one of those momentous questions which now agitate the public mind . Prompted , not by an impertinent curiosity , but solely by a desire ot ascertaining , whether your views or those of General Harrison co ¬ incide more nearly w ith our own , we are in ¬ duced to propound to you the following ques ¬ tions , viz : 1 . AY ill you , it re - elected President , veto any bill having for its object , the abolition of slavery in the District of Columbia ; or would you sanction any bill granting appropriations o ! the public money , to any State , soliciting aid for the emancipation of iheir slaves ? 2\n",
            "PRED: [{\"text\":\"Elizabeth City County\",\"type\":\"LOCATION\"},{\"text\":\"June 12, 1840\",\"type\":\"TIME\"},{\"text\":\"General Harrison\",\"type\":\"PERSON\"},{\"text\":\"District of Columbia\",\"type\":\"LOCATION\"}]\n",
            "\n",
            "TEXT: From the Pennsylvanian . Harrisburg , June 26 , 1S40 . Gentlemen : — I had the honor to receive yours of the 17th iust . , as well as another let ¬ ter of similar import , dated 16th inst . , tender ¬ ing to me a public dinner at such time and place as would best suit my convenience and stay among you , just on the eve of my depar ¬ ture from Philadelphia . It is a matter of re ¬ gret to me , that time , and my other indispen ¬ sable engagements rendered it impracticable to accept of your kindly proffered hospitality Allow mo to return my warmest thanks for the “ high regard and esteem ” you have been pleased to express in my behalf for my meri ¬ torious services . ” I cannot , and I ought not to suppose , that during periods of such trying and unexampled embarrassments as have dis ¬ tinguished the history of Pennsylvania since it has been my fortune to be entrusted with the executive functions of her government , every official act I may find it necessary to perform , and every recomm\n",
            "PRED: [{\"text\":\"Pennsylvanian\",\"type\":\"ORGANIZATION\"}, {\"text\":\"Harrisburg\",\"type\":\"LOCATION\"}, {\"text\":\"June 26, 1840\",\"type\":\"TIME\"}, {\"text\":\"Philadelphia\",\"type\":\"LOCATION\"}, {\"text\":\"Pennsylvania\",\"type\":\"LOCATION\"}]\n",
            "\n",
            "TEXT: TUB SCHOOL BOARD : Just what our school board propose to do in regard to hiring a teacher is not altogether clear , but it ia safe to predict that no lady teacher will get the school . The majority of the board are very much opposed to such an arrangement , and so long as they are our people have but little to fear from them in that direction . W « believe that the board desire to act in a manner which will result in the most good to the people . Mr . Lees , as well as Mr . McKechnie , stated to us not long since , that they would not in any degree favor the in ¬ stallment of a lady teacher , but would use their power to an advantage more suiting to the wishes and interests ot the people . We do not oppose the hiring of a lady teacher because we are particularly preju ¬ diced against them , for we are not , and believe that some of the most reliable and able teachers that bless our land to - day are ladies . The point is right here : If we cannot afford to hire more than one teacher at\n",
            "PRED: [{\"text\":\"TUB SCHOOL BOARD\",\"type\":\"ORGANIZATION\"},{\"text\":\"Mr. Lees\",\"type\":\"PERSON\"},{\"text\":\"Mr. McKechnie\",\"type\":\"PERSON\"}]\n",
            "\n",
            "TEXT: Genuine Lee ’ s Elixir ! 1 A sovereign remedy for Colds , obstinate Coughs . Catarrhs , Asthmas , bore lit routs , and aj - proaching Consumptions , A single trfal of this nted cine will prove its rfkicious quality in restoring a peifpiraiion common to healthy people , it dislodges and ex ¬ cels the tough vifcic phlegm or tnucti « , sti ength * • ning the weakened vessels of the lungs , thus striking at the 1001 of the difot ler ; the symp ¬ toms of com fe are effectually atd permanently ctmquercd * ' Th * * j » re : ir number of cures pertur med by this elegant and uIWul p / epatation , is sufficient to convince thole thai labour un ¬ der colds , coughse , & c . of being immediately relieved . For the information ot those pelt ’ if any there be , that liave not heard ot the ual - antic qualities of LEE ’ S ELIXIR , we give the names of the following persons , who are well known to our citizens in general as persons of integrity and strict veracity . From the follow ¬ ing certificate *\n",
            "PRED: [{\"text\":\"Genuine Lee’s Elixir\",\"type\":\"PRODUCT\"}, {\"text\":\"Lee’s Elixir\",\"type\":\"PRODUCT\"}]\n",
            "\n",
            "TEXT: PRESIDENT SULL IVAN ’ s MESSAGE . To the Hon . Senate and House ^ / ' Represen ¬ tatives , [ 0 / New - Hampshire . ] Gentlemen , H HVING been informed , that doubts have a - rifen iu the minds of fome , whether my hav ¬ ing accepted the office of Diftricft Judge has not difqualified me from aefling as Prefident of the State , until a new election takes place , I confefs that 1 have never been able to difcover any in ¬ compatibility in the two offices . But as fome have attempted to prove this by urging the words of aConflitution framed for thepurpofe of efta - blifhing over the people of New - Humpfhire a free , fovereign and independent government — 1 mull obferve , that this govennent has [ nice been changed by the voice of the people , who have agreed that their fafety depended on their relinquifhuig many of the powers retained by the people in that Conflitution , to a General Government eflabl ' fbed for the people of each and every State who fnould adopt it ; which to themwai to b\n",
            "PRED: [{\"text\":\"PRESIDENT SULL IVAN\",\"type\":\"PERSON\"}, {\"text\":\"Senate\",\"type\":\"ORGANIZATION\"}, {\"text\":\"House of Representatives\",\"type\":\"ORGANIZATION\"}, {\"text\":\"New-Hampshire\",\"type\":\"LOCATION\"}, {\"text\":\"Diftricft Judge\",\"type\":\"ORGANIZATION\"}, {\"text\":\"Prefident of the State\",\"type\":\"ORGANIZATION\"}, {\"text\":\"Constitution\",\"type\":\"PRODUCT\"}, {\"text\":\"General Government\",\"type\":\"ORGANIZATION\"}]\n",
            "\n",
            "TEXT: In England and other parts of Europe , horseshoes are now in use , made of cowhide instead of iron . The shoe is composed of three thick ¬ nesses of the hide which is pressed into a solid steel mould and after ¬ ward treated by a chemical process . It is said to be far superior , in sev ¬ eral particulars , to the iron shoe .\n",
            "PRED: [{\"text\":\"England\",\"type\":\"LOCATION\"},{\"text\":\"Europe\",\"type\":\"LOCATION\"},{\"text\":\"cowhide\",\"type\":\"PRODUCT\"},{\"text\":\"iron\",\"type\":\"PRODUCT\"},{\"text\":\"steel\",\"type\":\"PRODUCT\"}]\n",
            "\n",
            "TEXT: From the Otmndagiia ( N . A . ) Standard . The plan for disciplining the militia , pro ¬ posed by Mr . poinsett , w ould cost only half a million of dollars annually ; while that proposed by Gen . Harrison , with the present number ot our militia , would cost about FOUR MIL ¬ LIONS OF DOLLARS aunually . Gen . Harrison proposed to place the whole force , brought under discipline on his system , distinctly w ithin the control of Ihe President . On the 3d of February last , Gen . Ilarrisou addressed a letter to the “ Louisville Legion , ” in which he mentioned the plan here brought to view as one ofhis principal efforts to im ¬ prove the discipline ofthe militia . And furthermore , Gen . Harrison ’ s keepers have assured the public , that his sentiments have undergone “ no change . ” Of course , then , Gen . Harrison would urge upon the country with the whole influence of his official statiou , if placed in the Presidential chair , the odious and oppressively burthen - some scheme propose\n",
            "PRED: [{\"text\":\"Otmndagiia\",\"type\":\"ORGANIZATION\"}, {\"text\":\"N. A.\",\"type\":\"PERSON\"}, {\"text\":\"Mr. Poinsett\",\"type\":\"PERSON\"}, {\"text\":\"Gen. Harrison\",\"type\":\"PERSON\"}, {\"text\":\"President\",\"type\":\"PERSON\"}, {\"text\":\"3d of February\",\"type\":\"TIME\"}, {\"text\":\"Louisville Legion\",\"type\":\"ORGANIZATION\"}]\n",
            "\n",
            "TEXT: Loris Scouts Win Camporee Top Honor WINNERS — Members of Boy Scout Troop 843 . » » ho won top honors at an Horry IMstrict Scout Camporee at Clear Pond March 25 - 27 are shown above hiking down a road . The lads won after engaging in com - passing , rope throwing , Morse code , hiking with compass and individual cooking . The troop is sponsored by the First Bap ¬ tist Church . Boy Scout Troop 843 of Loris won top honors at the Horry District Scout Camporee March 25 - 27 at Clear Pond between ( Conway and Myrtle Beach . Competing against some ot the finest units in the county , the boys won top honors after participating in Compassing , : rope throwing , Morse Code , hiking with compass and indi - ) vidual cooking . Friday night the troops ! competing joined in a camp ¬ fire meeting and heard an ad ¬ dress by Col . Gruenwald , com ¬ manding officer of the Myrtle Beach Air Force Base . The Loris troop , sponsored by the First Baptist church , was the only troop to have all its Scout leade\n",
            "PRED: [\n",
            "  {\"text\":\"Loris Scouts\",\"type\":\"ORGANIZATION\"},\n",
            "  {\"text\":\"Boy Scout Troop 843\",\"type\":\"ORGANIZATION\"},\n",
            "  {\"text\":\"Horry District Scout Camporee\",\"type\":\"ORGANIZATION\"},\n",
            "  {\"text\":\"Clear Pond\",\"type\":\"LOCATION\"},\n",
            "  {\"text\":\"March 25 - 27\",\"type\":\"TIME\"},\n",
            "  {\"text\":\"First Baptist Church\",\"type\":\"ORGANIZATION\"},\n",
            "  {\"text\":\"Conway\",\"type\":\"LOCATION\"},\n",
            "  {\"text\":\"Myrtle Beach\",\"type\":\"LOCATION\"},\n",
            "  {\"text\":\"Col. Gruenwald\",\"type\":\"PERSON\"},\n",
            "  {\"text\":\"Myrtle Beach Air Force Base\",\"type\":\"ORGANIZATION\"}\n",
            "]\n",
            "\n",
            "TEXT: AGRICULTURE ON THE YUKON . Wheut . Vr ( jet » bl « uml Sum 11 Fruit * Will Grow There . Vice Consul Morrison of Dawson City , sends to Washington a report on the results of agricultural experiments , written by a resident of that day . which reads in part , as follows : \" Grain has done exceptionally well , being well filled , and I see no reason why It should not be extensively and success ¬ fully grown here . As far as my obser ¬ vations go . the climate here is as suit ¬ able for raising winter wheat as in any place in the northwestern or the north ¬ ern states of America . From my ex ¬ perience of the last two years . 1 see no reason why this country should not be able to produce its owu vegetables and grains . As for flowers , the success I have had proves that all hardy annuals will do well . The coming year I in ¬ tend planting several hundred hybrid roses , also summer flowering bulbs , a large variety of other hardy aud half - hardy annuals , and some of the hardy perennials .\n",
            "PRED: [{\"text\":\"Yukon\",\"type\":\"LOCATION\"}, {\"text\":\"Vice Consul Morrison\",\"type\":\"PERSON\"}, {\"text\":\"Dawson City\",\"type\":\"LOCATION\"}, {\"text\":\"Washington\",\"type\":\"LOCATION\"}, {\"text\":\"northwestern states of America\",\"type\":\"LOCATION\"}, {\"text\":\"northern states of America\",\"type\":\"LOCATION\"}]\n",
            "\n",
            "TEXT: A Bit oT Daring . A Western paper tells the story of Steve Venard ’ s fight with three rob ¬ bers in 1866 . The stage coming to Nevada , Col . , had been robbed by three men , and the treasure - box taken . A party set out for its recovery . Yenard , armed with a Henry rifle , followed the trail alone into one of the wildest and roughest of spots in that wild and rug ¬ ged region . The hills hung steep above . The waters of the ravine came tumbling down its steep bed of bowl ¬ ders with a rush and a noise which ren ¬ dered no other sounds audible . Yenard attempted to cross the stream at the head of the fall . He walked on a short log to a rock . Above him rose the huge mass of granite , buttressed in front by two smaller rocks . Between these latter was an alley which led to the base of the Titan . His position was suen as to look up the alley . At the base of the great rock Yenard discov ¬ ered the leader of the gang sit ¬ ting on the ground drawing his revolver . Venard leveled his\n",
            "PRED: [{\"text\":\"Steve Venard\",\"type\":\"PERSON\"},{\"text\":\"Nevada\",\"type\":\"LOCATION\"},{\"text\":\"Henry rifle\",\"type\":\"PRODUCT\"},{\"text\":\"1866\",\"type\":\"TIME\"}]\n",
            "\n",
            "TEXT: From the Chariest - n Mercury . Nothing is doing now iu Congress , in the lower House , but making mouths , blackguard ¬ ing , doubling fists , & . c . & c . See . It is sup ¬ posed that the decent members will not at ¬ tempt business until the rowdies have ex ¬ hausted themselves—or the House been purged after a general knock down and drag out . There has as yet been no bloodshed , except a little scratching and hair - pulling iu the lobby . The Senate has done some busi ¬ ness , has passed the Sub - Treasury Bill , and seems inclined to be decent , though a little infected by the rowdyism of the lower house ; for instance—the knock up the sand scene ’ good as you sir , ’ ‘ do it if you dare sir , ’ ‘ not afraid of you or any mail ’ — afiiiir between an old and young one , Messrs . Clay aud Walk ¬ er tother day - Why will 31 r . Clay disturb the harmony of the Senate , and rutile ( lie even current of his unaspiring course by such discordant scrapes ?\n",
            "PRED: [{\"text\":\"Congress\",\"type\":\"ORGANIZATION\"}, {\"text\":\"House\",\"type\":\"ORGANIZATION\"}, {\"text\":\"Senate\",\"type\":\"ORGANIZATION\"}, {\"text\":\"Sub-Treasury Bill\",\"type\":\"PRODUCT\"}, {\"text\":\"Clay\",\"type\":\"PERSON\"}, {\"text\":\"Walker\",\"type\":\"PERSON\"}]\n",
            "\n",
            "TEXT: Housewives League Hold : Convention at Tuskegee The National Housewives Lea ¬ gue of America recently convened at T iskegee Institute . Ala . under the theme , “ Girded for Progress a * Mid - Century . ” The opening meeting was called to order by Mrs . Chris ¬ tina Fuqua , president of De ¬ troit . Mich . , and opened with a solo by Mrs . Mattie S . Bibb . Mrs . E . R . Naggles . Iota Phi Lambda sorority , Tuskegee In ¬ stitute , welcomed the Leagu.e to Tuskegee . followed by a solo by Mrs . Willie M . Miller with Mrs . A . R Ashley as accomp - panist . In addressing the League , Mrs . Fuqua explained the purpose of the League , its achievements and how it can function in a com ¬ munity . knowing its national pos ¬ sibilities . The president pointed out that women should be proud that they spend the “ must ' * dollars ; that is . the dollar for the home and that they could help by being a part of the growing Negro busi ¬ nesses . She stated that pool - buying would help Negro busi ¬ ne\n",
            "PRED: [\n",
            "    {\"text\":\"National Housewives League of America\",\"type\":\"ORGANIZATION\"},\n",
            "    {\"text\":\"Tuskegee Institute\",\"type\":\"ORGANIZATION\"},\n",
            "    {\"text\":\"Tuskegee\",\"type\":\"LOCATION\"},\n",
            "    {\"text\":\"Mrs. Christina Fuqua\",\"type\":\"PERSON\"},\n",
            "    {\"text\":\"Detroit, Mich.\",\"type\":\"LOCATION\"},\n",
            "    {\"text\":\"Mrs. Mattie S. Bibb\",\"type\":\"PERSON\"},\n",
            "    {\"text\":\"Mrs. E. R. Naggles\",\"type\":\"PERSON\"},\n",
            "    {\"text\":\"Iota Phi Lambda sorority\",\"type\":\"ORGANIZATION\"},\n",
            "    {\"text\":\"Mrs. Willie M. Miller\",\"type\":\"PERSON\"},\n",
            "    {\"text\":\"Mrs. A. R. Ashley\",\"type\":\"PERSON\"},\n",
            "    {\"text\":\"Negro businesses\",\"type\":\"ORGANIZATION\"}\n",
            "]\n",
            "\n",
            "TEXT: TO THE Cultivators oftlieSul THE AMERICA * FARMER . T HE first number of the AMERICAN FARMER , was issued on the 2d of April 1819 . It may now be announced as an es tablisbed National work , adapted to all the varieties of our climate , since many oi the most eminent citizens in all the states , con tribute by their patronage and their pens , to its circulation and its usefulness To make known all discoveries in the sci ence , and all improvements in the practice of Agriculture and Domestic Economy—and to develope the means and designate plans of internal improvements generally , consti tute the chief objects to which the American Farmer is devoted . It takes no concern or interest in party politics , nor inthe transient occurrences of the day . The Farmer is published weekly , on . - heel the size of a large newspaper , and folded o as to make eight pages—and to ad ¬ mit of being conveniently bound up and preserved in volumes . Each volume will consist of fifty - two numbers , a title\n",
            "PRED: [{\"text\":\"AMERICAN FARMER\",\"type\":\"ORGANIZATION\"},{\"text\":\"2d of April 1819\",\"type\":\"TIME\"},{\"text\":\"America\",\"type\":\"LOCATION\"}]\n",
            "\n",
            "TEXT: B . M . JOHNSON MFG . CO . A new manufacturing enterprise with an authorized capital stock of $25,000 , promoted by Benton M . John ¬ son and incorporated for the purpose of manufacturing extracts , spices , drugs and grocery sundries , has been organized in Jackson . An applica tion for a charter was made in the office of the county court clerk yes ¬ terday by the stockholders of the corporation , styled the B . M . Johnson Manufacturing Company . The industry will be completely established , equipped with all neces ¬ sary facilities and in operation by the first of February , it was stated by Benton M . Johnson yesterday . The plant will employ between 30 and 50 girls , it is stated , and five travel ng salesmen . Mr . Johnson , the promot ¬ er of the enterprise , has been travel ¬ ing for a well - known drug concern for 17 years and the stockholders of the Jackson corporation believe that the locab plant will be successfully promoted under his direction . — Jack - son Sun .\n",
            "PRED: [\n",
            "    {\"text\":\"B. M. Johnson Mfg. Co.\",\"type\":\"ORGANIZATION\"},\n",
            "    {\"text\":\"Benton M. Johnson\",\"type\":\"PERSON\"},\n",
            "    {\"text\":\"Jackson\",\"type\":\"LOCATION\"},\n",
            "    {\"text\":\"B. M. Johnson Manufacturing Company\",\"type\":\"ORGANIZATION\"},\n",
            "    {\"text\":\"February\",\"type\":\"TIME\"},\n",
            "    {\"text\":\"Jackson Sun\",\"type\":\"ORGANIZATION\"}\n",
            "]\n",
            "\n",
            "TEXT: The Shirt Waist . Very inviting are the displays of Ox ¬ fords , cheviots , zephyrs and madras cloths for the shirt waist , and the made - up models have already pushed out of place their winter representa ¬ tives in cloth , velvet and fine llannels . We shall wear the comfortable wools , aye , and even buy them for some time to come , but already we are casting speculative eyes upon the thinner suc ¬ cessors . A pretty feature in the wash waist for next summer is their sim ¬ plicity . The human form divine is to have a chance to breathe once more , for the voluminous starchy fronts arc no more . Even those professing to be loose have no surplus material , and the greater number are unquestionably perfectly plain , fitted over shoulders and bust and buttoned simply down the back . Red dotted swiss has the entire front crossed In diamonds ^ of white val insertion , the undarted front Just puck ¬ ered a little at the belt , the plain back closed with bullet - shaped pearl buttons . The c\n",
            "PRED: [{\"text\":\"Shirt Waist\",\"type\":\"PRODUCT\"}, {\"text\":\"Oxfords\",\"type\":\"PRODUCT\"}, {\"text\":\"cheviots\",\"type\":\"PRODUCT\"}, {\"text\":\"zephyrs\",\"type\":\"PRODUCT\"}, {\"text\":\"madras cloths\",\"type\":\"PRODUCT\"}, {\"text\":\"cloth\",\"type\":\"PRODUCT\"}, {\"text\":\"velvet\",\"type\":\"PRODUCT\"}, {\"text\":\"fine flannels\",\"type\":\"PRODUCT\"}, {\"text\":\"wools\",\"type\":\"PRODUCT\"}, {\"text\":\"wash waist\",\"type\":\"PRODUCT\"}, {\"text\":\"Red dotted swiss\",\"type\":\"PRODUCT\"}, {\"text\":\"white val insertion\",\"type\":\"PRODUCT\"}, {\"text\":\"bullet-shaped pearl buttons\",\"type\":\"PRODUCT\"}]\n",
            "\n",
            "TEXT: NOTICE . By virtue of a bil of sale issued by Tom Scarlett , Circuit Court Clerk for Putnam County , . ennessee , dated on the 6tU . day of January , 1920 , I will expore to sale to tne highest bidder for cash on the 31st day of January , 1920 , at 1 : 0 ; o ’ clock , P . M . at the Courthouse door in the Town of Cookeville , the following property , to - wit : A house and lot located in the 19th Civil District of Putnam County , Tennessee , containing one acre , more or less , bounded on the east by the lands of J . R . Watson ; on the north by the T . C . R . K . Co . ; on the west by the lands of Phy ; on the south by the lands of J . R . Watson ; levied on as the lands of D . Ritten ¬ berry , to satisfy a Judgment in favor of P . L . Ramsey ag - ih st him , with interest and all the cost.i of the case . This Jan . 6th , 1920 . L . F . MILLER , Sheriff .\n",
            "PRED: [\n",
            "    {\"text\":\"Tom Scarlett\",\"type\":\"PERSON\"},\n",
            "    {\"text\":\"Circuit Court Clerk\",\"type\":\"ORGANIZATION\"},\n",
            "    {\"text\":\"Putnam County\",\"type\":\"LOCATION\"},\n",
            "    {\"text\":\"Tennessee\",\"type\":\"LOCATION\"},\n",
            "    {\"text\":\"January 6, 1920\",\"type\":\"TIME\"},\n",
            "    {\"text\":\"January 31, 1920\",\"type\":\"TIME\"},\n",
            "    {\"text\":\"Cookeville\",\"type\":\"LOCATION\"},\n",
            "    {\"text\":\"19th Civil District\",\"type\":\"LOCATION\"},\n",
            "    {\"text\":\"J. R. Watson\",\"type\":\"PERSON\"},\n",
            "    {\"text\":\"T. C. R. K. Co.\",\"type\":\"ORGANIZATION\"},\n",
            "    {\"text\":\"Phy\",\"type\":\"PERSON\"},\n",
            "    {\"text\":\"D. Rittenberry\",\"type\":\"PERSON\"},\n",
            "    {\"text\":\"P. L. Ramsey\",\"type\":\"PERSON\"},\n",
            "    {\"text\":\"L. F. Miller\",\"type\":\"PERSON\"},\n",
            "    {\"text\":\"Sheriff\",\"type\":\"ORGANIZATION\"}\n",
            "]\n",
            "\n",
            "TEXT: CLEARING UP THE EDENTON CENSUS COUNT Edentonians have berm raising quite a squawk over the census re ¬ turns , They claim that the census enumerators were lax in their ! duties , that the carriers beak ; cf the Edcnton pnsloff.ee show that the poslofficc serves approximate ¬ ly 4,500 in contrast to the official census count of 3,519 ; they arc clamoiing for a new enumeration . In the efTia * of the District Supervisor of Census , this is cla . s - id as Chamber ef Csmmcrcc and press ballyhoo . Edentonians have been boasting ‘ for several years that the population ol their town was more than 5,000 J when the official count revealed only 3.519 . Edentonians ware dis ¬ appointed and began to grumble . Several s * dulous busybodies , anxious to boost the population of their town , borrowed the carrier ’ s books from the postofTice and counted all the names therein . They found nearly 4.500 names in the books . And immediately a cry was raised . ‘ Wc want , a new tabulation . There are a th\n",
            "PRED: [{\"text\":\"Edenton\",\"type\":\"LOCATION\"}, {\"text\":\"District Supervisor of Census\",\"type\":\"ORGANIZATION\"}, {\"text\":\"Chamber of Commerce\",\"type\":\"ORGANIZATION\"}]\n",
            "\n"
          ]
        }
      ]
    },
    {
      "cell_type": "markdown",
      "source": [
        "Tasks:\n",
        "\n",
        "1. Are you happy with the result?\n",
        "2. Can you make the model guess e.g. types of locations? Does the result align with your intuition?\n",
        "\n"
      ],
      "metadata": {
        "id": "-BLuODsDUsCW"
      }
    }
  ]
}