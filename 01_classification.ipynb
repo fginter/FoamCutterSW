{
  "nbformat": 4,
  "nbformat_minor": 0,
  "metadata": {
    "colab": {
      "provenance": [],
      "include_colab_link": true
    },
    "kernelspec": {
      "name": "python3",
      "display_name": "Python 3"
    },
    "language_info": {
      "name": "python"
    }
  },
  "cells": [
    {
      "cell_type": "markdown",
      "metadata": {
        "id": "view-in-github",
        "colab_type": "text"
      },
      "source": [
        "<a href=\"https://colab.research.google.com/github/fginter/FoamCutterSW/blob/master/01_classification.ipynb\" target=\"_parent\"><img src=\"https://colab.research.google.com/assets/colab-badge.svg\" alt=\"Open In Colab\"/></a>"
      ]
    },
    {
      "cell_type": "markdown",
      "source": [
        "# DSPy tutorial part 1:\n",
        "\n",
        "*   Grabs a dataset on climate change claims\n",
        "*   Carries out the same classification task using DSPy\n",
        "*   Compares the outputs\n",
        "\n",
        "IMPORTANT\n",
        "\n",
        "Before you start, press the \"key\" symbol on the left, create a \"new secret\"\n",
        "called \"openai-api-key\" and the value is the key you get from me. Allow \"Notebook access\"."
      ],
      "metadata": {
        "id": "bM-_X2IU14zs"
      }
    },
    {
      "cell_type": "code",
      "source": [
        "!pip3 install -q 'datasets<4.0.0'\n",
        "!pip3 install -q dspy\n",
        "\n",
        "#Get the API key\n",
        "!wget -O api-key.txt http://epsilon-it.utu.fi/dight-api-key-1.txt\n",
        "api_key=open(\"api-key.txt\").read().strip()\n",
        "\n",
        "#Backup option:\n",
        "#api_key=\"sk_....\""
      ],
      "metadata": {
        "collapsed": true,
        "id": "PfLgG9QBeJ6o",
        "outputId": "95b0f9dc-e8f3-4795-f4f3-8cec772f069d",
        "colab": {
          "base_uri": "https://localhost:8080/"
        }
      },
      "execution_count": 13,
      "outputs": [
        {
          "output_type": "stream",
          "name": "stdout",
          "text": [
            "--2025-08-28 07:53:32--  http://epsilon-it.utu.fi/dight-api-key-1.txt\n",
            "Resolving epsilon-it.utu.fi (epsilon-it.utu.fi)... 130.232.253.13\n",
            "Connecting to epsilon-it.utu.fi (epsilon-it.utu.fi)|130.232.253.13|:80... connected.\n",
            "HTTP request sent, awaiting response... 200 OK\n",
            "Length: 165 [text/plain]\n",
            "Saving to: ‘api-key.txt’\n",
            "\n",
            "api-key.txt         100%[===================>]     165  --.-KB/s    in 0s      \n",
            "\n",
            "2025-08-28 07:53:32 (21.0 MB/s) - ‘api-key.txt’ saved [165/165]\n",
            "\n"
          ]
        }
      ]
    },
    {
      "cell_type": "code",
      "execution_count": 14,
      "metadata": {
        "colab": {
          "base_uri": "https://localhost:8080/"
        },
        "id": "4Mu0pSP0b-Cm",
        "outputId": "42ff1223-116c-4c24-e363-3a1e44e11878"
      },
      "outputs": [
        {
          "output_type": "stream",
          "name": "stdout",
          "text": [
            " Quote: Gavin’s a great friend and a great talent,” Rebel Media founder Ezra Levant told Canadaland in an email. “We tried to keep him, but he was lured away by a major competitor that we just couldn’t outbid.\n",
            " Label: 0_not_relevant\n",
            "\n",
            " Quote: Because it’s getting warmer, there’s more CO2 coming out which means it’s going to get warmer which means there’s more CO2 coming out[…] And it will just run away with itself.”\n",
            " Label: 2_not_human\n",
            "\n",
            " Quote: We had a Medieval warm period. We had a little ice age. Now the little ice age is over and it’s getting warming. It’s not surprising; you end an ice age, temperatures do get warmer. Climate change is standard. The concern should really be: in the past, mankind adjusted to climate change. We need to adjust to the change in climate. […] We need to be thinking in terms of shifting with the climate, because the climate shifts. The climate changes.\n",
            " Label: 2_not_human\n",
            "\n",
            " Quote: Liberals know very well..the sun solar flares are at the end of a hot cycle. Next 8 years will be considerably colder. Harsher winters. Will they still call it \"climate crisis\" ?How old are you Steve. Go ahead ...pick the climate crisis for your birth year.\n",
            " Label: 1_not_happening\n",
            "\n",
            " Quote: Although the social cost of carbon is based on an interesting class of statistical models, no matter what estimate the Biden administration provides, the assumptions used to generate it can almost surely be manipulated to give lawmakers virtually any other (even negative) estimate of the social cost of carbon, thereby predicting anything, ranging from little warming and continued prosperity to catastrophic warming and immense disaster.\n",
            " Label: 5_science_unreliable\n",
            "\n",
            " Quote: As the oceans (all bodies of H2O) warm, increased planetary albedo (incresed fall, winter snowfall) will likely create a negative feedback to global warming. Snowpack will last into spring, reflecting high energy photons back into space.\n",
            " Label: 3_not_bad\n",
            "\n",
            " Quote: The elites have no problem flying anywhere in the world so problems are probably due to climate change (policy)\n",
            " Label: 6_proponents_biased\n",
            "\n",
            " Quote: Yes they have, that's the POINT! Dems/Left want society to collapse and become totally dependent on them\n",
            " Label: 0_not_relevant\n",
            "\n",
            " Quote: It appears to have become something of a game to see who can add in the most creative feedback mechanisms to produce the scariest warming scenarios from their models but there remains no evidence the planet includes any such effects or behaves in a similar manner.\n",
            " Label: 5_science_unreliable\n",
            "\n",
            " Quote: NASA scientists have a strong conflict of interest in that they expect to see warming, and they the more alarm they create, the more money they obtain. This is why climate scientists have no business touching the temperature data. They have no training in signal processing and they have shown repeatedly that they will alter data to suit their needs.\n",
            " Label: 6_proponents_biased\n",
            "\n"
          ]
        }
      ],
      "source": [
        "from datasets import load_dataset\n",
        "from google.colab import userdata\n",
        "import random\n",
        "\n",
        "\n",
        "#### new comment\n",
        "\n",
        "# Load the Frugal AI Challenge dataset\n",
        "dataset = load_dataset(\"QuotaClimat/frugalaichallenge-text-train\")\n",
        "\n",
        "# Access the training split\n",
        "train_data = dataset[\"train\"]\n",
        "\n",
        "# Pick 30 random items\n",
        "sampled_items = random.sample(list(train_data), 30)\n",
        "\n",
        "# Print out a few samples to see the structure\n",
        "for item in sampled_items[:10]: #prints 10 samples\n",
        "    print(\" Quote:\", item[\"quote\"])\n",
        "    print(\" Label:\", item[\"label\"])\n",
        "    print()"
      ]
    },
    {
      "cell_type": "code",
      "source": [
        "import dspy\n",
        "\n",
        "\n",
        "class ClimateViewClassifier(dspy.Signature):\n",
        "    \"\"\"Classify a quote or claim about climate change using one of the following labels:\n",
        "\n",
        "    Not-Relevant: No relevant claim detected or claims that don't fit other categories\n",
        "\n",
        "    Not-Happening: Claims denying the occurrence of global warming and its effects - Global warming is not happening. Climate change is NOT leading to melting ice (such as glaciers, sea ice, and permafrost), increased extreme weather, or rising sea levels. Cold weather also shows that climate change is not happening\n",
        "\n",
        "    Not-Human: Claims denying human responsibility in climate change - Greenhouse gases from humans are not the causing climate change.\n",
        "\n",
        "    Not-Bad: Claims minimizing or denying negative impacts of climate change - The impacts of climate change will not be bad and might even be beneficial.\n",
        "\n",
        "    Solutions-Harmful-Unnecessary: Claims against climate solutions - Climate solutions are harmful or unnecessary\n",
        "\n",
        "    Science-is-Unreliable: Claims questioning climate science validity - Climate science is uncertain, unsound, unreliable, or biased.\n",
        "\n",
        "    Proponents-Biased: Claims attacking climate scientists and activists - Climate scientists and proponents of climate action are alarmist, biased, wrong, hypocritical, corrupt, and/or politically motivated.\n",
        "\n",
        "    Fossil-Fuels-Needed: Claims promoting fossil fuel necessity - We need fossil fuels for economic growth, prosperity, and to maintain our standard of living.\n",
        "    \"\"\"\n",
        "\n",
        "    quote = dspy.InputField(desc=\"Quote or claim about climate change\")\n",
        "    label = dspy.OutputField(\n",
        "        desc=\"Label of the quote\",\n",
        "        choices=[\"Not-Happening\",\"Not-Human\",\"Not-Bad\",\"Solutions-Harmful-Unnecessary\",\"Science-is-Unreliable\",\"Proponents-Biased\",\"Fossil-Fuels-Needed\"],\n",
        "    )\n",
        "\n",
        "# Initialize DSPy with an LLM (use default OpenAI if configured, or HF local)\n",
        "lm=dspy.LM(\"openai/gpt-4.1-mini\",api_key=api_key)\n",
        "dspy.configure(lm=lm)\n",
        "\n",
        "# Instantiate classifier\n",
        "classifier = dspy.Predict(signature=ClimateViewClassifier)\n",
        "\n",
        "# Run predictions on our 30 samples\n",
        "for item in sampled_items:\n",
        "    quote = item[\"quote\"]\n",
        "    true_label = item[\"label\"]\n",
        "    pred = classifier(quote=quote)\n",
        "    print(\"Text:\", quote.replace(\"\\n\", \" \"))\n",
        "    print(\"True:\", true_label)\n",
        "    print(\"Pred:\", pred.label)\n",
        "    print(\"-\" * 40)\n"
      ],
      "metadata": {
        "colab": {
          "base_uri": "https://localhost:8080/"
        },
        "id": "fIMvD419dApf",
        "outputId": "408964fe-6c51-46b9-fb2e-a56419d51e08"
      },
      "execution_count": 15,
      "outputs": [
        {
          "output_type": "stream",
          "name": "stdout",
          "text": [
            "Text: Gavin’s a great friend and a great talent,” Rebel Media founder Ezra Levant told Canadaland in an email. “We tried to keep him, but he was lured away by a major competitor that we just couldn’t outbid.\n",
            "True: 0_not_relevant\n",
            "Pred: Not-Relevant\n",
            "----------------------------------------\n",
            "Text: Because it’s getting warmer, there’s more CO2 coming out which means it’s going to get warmer which means there’s more CO2 coming out[…] And it will just run away with itself.”\n",
            "True: 2_not_human\n",
            "Pred: Not-Human\n",
            "----------------------------------------\n",
            "Text: We had a Medieval warm period. We had a little ice age. Now the little ice age is over and it’s getting warming. It’s not surprising; you end an ice age, temperatures do get warmer. Climate change is standard. The concern should really be: in the past, mankind adjusted to climate change. We need to adjust to the change in climate. […] We need to be thinking in terms of shifting with the climate, because the climate shifts. The climate changes.\n",
            "True: 2_not_human\n",
            "Pred: Not-Human\n",
            "----------------------------------------\n",
            "Text: Liberals know very well..the sun solar flares are at the end of a hot cycle. Next 8 years will be considerably colder. Harsher winters. Will they still call it \"climate crisis\" ?How old are you Steve. Go ahead ...pick the climate crisis for your birth year.\n",
            "True: 1_not_happening\n",
            "Pred: Not-Happening\n",
            "----------------------------------------\n",
            "Text: Although the social cost of carbon is based on an interesting class of statistical models, no matter what estimate the Biden administration provides, the assumptions used to generate it can almost surely be manipulated to give lawmakers virtually any other (even negative) estimate of the social cost of carbon, thereby predicting anything, ranging from little warming and continued prosperity to catastrophic warming and immense disaster.\n",
            "True: 5_science_unreliable\n",
            "Pred: Science-is-Unreliable\n",
            "----------------------------------------\n",
            "Text: As the oceans (all bodies of H2O) warm, increased planetary albedo (incresed fall, winter snowfall) will likely create a negative feedback to global warming. Snowpack will last into spring, reflecting high energy photons back into space.\n",
            "True: 3_not_bad\n",
            "Pred: Not-Bad\n",
            "----------------------------------------\n",
            "Text: The elites have no problem flying anywhere in the world so problems are probably due to climate change (policy)\n",
            "True: 6_proponents_biased\n",
            "Pred: Proponents-Biased\n",
            "----------------------------------------\n",
            "Text: Yes they have, that's the POINT! Dems/Left want society to collapse and become totally dependent on them\n",
            "True: 0_not_relevant\n",
            "Pred: Proponents-Biased\n",
            "----------------------------------------\n",
            "Text: It appears to have become something of a game to see who can add in the most creative feedback mechanisms to produce the scariest warming scenarios from their models but there remains no evidence the planet includes any such effects or behaves in a similar manner.\n",
            "True: 5_science_unreliable\n",
            "Pred: Science-is-Unreliable\n",
            "----------------------------------------\n",
            "Text: NASA scientists have a strong conflict of interest in that they expect to see warming, and they the more alarm they create, the more money they obtain. This is why climate scientists have no business touching the temperature data. They have no training in signal processing and they have shown repeatedly that they will alter data to suit their needs.\n",
            "True: 6_proponents_biased\n",
            "Pred: Proponents-Biased\n",
            "----------------------------------------\n",
            "Text: The cost of living crisis is a result of the boom and bust system of control being bust! The virus, the war & climate change all cover for NWO to create a new social credit prison system, an electric one (on/off) with no escape! Stop the NWO or allow it. YOUR CHOICE!\n",
            "True: 0_not_relevant\n",
            "Pred: Not-Relevant\n",
            "----------------------------------------\n",
            "Text: The onset of a new glaciation could cause the sea level to stop rising. It could even fall 400 feet, to the level at the last glaciation maximum 18,000 years ago.\n",
            "True: 1_not_happening\n",
            "Pred: Not-Happening\n",
            "----------------------------------------\n",
            "Text: What are the good and bad impacts of any global warming?\n",
            "True: 0_not_relevant\n",
            "Pred: Not-Relevant\n",
            "----------------------------------------\n",
            "Text: Please, God, let there be violence. Please, God, help the @metpoliceuk find their batons.\n",
            "True: 0_not_relevant\n",
            "Pred: Not-Relevant\n",
            "----------------------------------------\n",
            "Text: No, the world ISN’T getting warmer (as you may have noticed). Now we reveal the official data that’s making scientists suddenly change their minds about climate doom. So will eco-funded MPs stop waging a green crusade with your money? Well… what do YOU think?\n",
            "True: 1_not_happening\n",
            "Pred: Not-Happening\n",
            "----------------------------------------\n",
            "Text: Alberta’s so-called carbon footprint is actually less of an issue than many other kinds of oil being produced around the world. Relative to other sources of petroleum, the oil sands look better and better all the time.\n",
            "True: 4_solutions_harmful_unnecessary\n",
            "Pred: Fossil-Fuels-Needed\n",
            "----------------------------------------\n",
            "Text: The good news is that sea level rise is much more modest than false prognosticators have led us to believe. Al Gore’s worst case scenario fooled some for a time, but no more,” the  piece concluded Rather than attempt to shave fractions of an inch off of future sea level rise in the distant future, policymakers should keep fossil fuels affordable, plentiful, and reliable to deal with climate and weather events of all kinds. Free-market adaptation, not a futile crusade to ‘stabilize’ climate, is the obvious choice for a free, prosperous world.\n",
            "True: 4_solutions_harmful_unnecessary\n",
            "Pred: Solutions-Harmful-Unnecessary\n",
            "----------------------------------------\n",
            "Text: These models have proved to be incorrect when compared with real-world temperature data;\n",
            "True: 5_science_unreliable\n",
            "Pred: Science-is-Unreliable\n",
            "----------------------------------------\n",
            "Text: True, the climate is always changing. The fact is, however, that a very moderate amount of warming that we’ve seen in the last century is not a very sound basis to believe that we’re going to have a new ice age.\n",
            "True: 0_not_relevant\n",
            "Pred: Not-Relevant\n",
            "----------------------------------------\n",
            "Text: It's not just that the quasi-religious, pseudo-scientific \"Gaia hypothesis\" - the belief, taking its name from the pagan Greek goddess of the Earth, that the sum of the parts of the Earth's ecosystems together make up a living thing is popular in certain environmentalist circles.\n",
            "True: 6_proponents_biased\n",
            "Pred: Not-Relevant\n",
            "----------------------------------------\n",
            "Text: It is highly unlikely that the temperature in the middle of the next century will be significantly affected whether policies are enacted now or 20 years from now.\n",
            "True: 4_solutions_harmful_unnecessary\n",
            "Pred: Science-is-Unreliable\n",
            "----------------------------------------\n",
            "Text: What about claims of crop failure, famine, and mass death? That’s science fiction, not science. Humans today produce enough food for 10 billion people, or 25% more than we need, and scientific bodies predict increases in that share, not declines.\n",
            "True: 3_not_bad\n",
            "Pred: Not-Bad\n",
            "----------------------------------------\n",
            "Text: The Church instead needs to return to a proper understanding of the nature of man.\n",
            "True: 0_not_relevant\n",
            "Pred: Not-Relevant\n",
            "----------------------------------------\n",
            "Text: We believe this proposed rule strikes that balance and will allow job growth in rural America.\n",
            "True: 0_not_relevant\n",
            "Pred: Not-Relevant\n",
            "----------------------------------------\n",
            "Text: A proper analysis of ice core records from the past 650,000 years demonstrates that temperature increases have come before, and not resulted from, increases in CO2 by hundreds of years.\n",
            "True: 2_not_human\n",
            "Pred: Not-Human\n",
            "----------------------------------------\n",
            "Text: Any extra CO2 is already increasing the fertility and reducing water needs of all plant life and thus enhancing world food production.\n",
            "True: 3_not_bad\n",
            "Pred: Not-Bad\n",
            "----------------------------------------\n",
            "Text: The forthcoming (Sept. 2013) IPCC report claims that the reported surface warming of 1978-2000 is sure (better than 95% — by IPCC’s own unsupported estimate) evidence for AGW. But the missing hotspot is sure (better than 96%, by my personal reckoning) evidence against the existence of any such warming. But before you dispose of the 2000-page-plus IPCC report, stop and consider: it makes a wonderful paper weight or door stop.\n",
            "True: 5_science_unreliable\n",
            "Pred: Science-is-Unreliable\n",
            "----------------------------------------\n",
            "Text: Texas just had its coolest winter in 2021.\n",
            "True: 1_not_happening\n",
            "Pred: Not-Happening\n",
            "----------------------------------------\n",
            "Text: I’ve always said that climate change has existed since the year dot and it will continue to exist. I’m a fan of reducing emissions because I want cleaner, quieter cities, I live in them.\n",
            "True: 0_not_relevant\n",
            "Pred: Not-Relevant\n",
            "----------------------------------------\n",
            "Text: I used to believe in apple pie and motherhood and NOAA and NASA. These were all the things that were pure and good. Now I just believe in apple pie and motherhood,\n",
            "True: 6_proponents_biased\n",
            "Pred: Proponents-Biased\n",
            "----------------------------------------\n"
          ]
        }
      ]
    },
    {
      "cell_type": "markdown",
      "source": [
        "# Follow-up task(s)\n",
        "\n",
        "1.   Is the model accurate?\n",
        "1.   Is the model wrong, when it disagrees with the dataset annotation?\n",
        "1.   If you change the model from gpt-4.1-mini to gpt-4.1 is there any difference? (do not rerun the whole notebook so you keep your random sample)\n",
        "2.   Think of any other classification schema of these claims, and try to modify the DSPy code to make it happen - did it work?\n"
      ],
      "metadata": {
        "id": "v98b23ceSjvk"
      }
    }
  ]
}